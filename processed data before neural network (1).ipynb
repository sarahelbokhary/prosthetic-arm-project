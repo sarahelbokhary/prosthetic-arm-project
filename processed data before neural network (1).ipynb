{
 "cells": [
  {
   "cell_type": "code",
   "execution_count": null,
   "metadata": {},
   "outputs": [],
   "source": [
    "# graduation project code 2021/2022 Biomedical engineering department , Helwan university  "
   ]
  },
  {
   "cell_type": "code",
   "execution_count": null,
   "metadata": {},
   "outputs": [],
   "source": [
    "# team members : Amr mostafa ,Fady Mostafa ,Sara Ahmed"
   ]
  },
  {
   "cell_type": "code",
   "execution_count": null,
   "metadata": {},
   "outputs": [],
   "source": [
    "# import lib"
   ]
  },
  {
   "cell_type": "code",
   "execution_count": 3,
   "metadata": {},
   "outputs": [],
   "source": [
    "from sklearn.model_selection import train_test_split\n",
    "from glob import glob\n",
    "from scipy.signal import butter, lfilter, convolve, boxcar\n",
    "from scipy.signal import freqz\n",
    "from scipy.fftpack import fft, ifft\n",
    "from sklearn.linear_model import LogisticRegression\n",
    "from sklearn.preprocessing import StandardScaler,MinMaxScaler\n",
    "\n",
    "import numpy as np\n",
    "import pywt\n",
    "import matplotlib.pyplot as plt\n",
    "import pandas as pd\n",
    "import scipy\n",
    "import os\n",
    "\n",
    "# importing required libraries # to form RGB\n",
    "from PIL import Image\n",
    "import numpy as np"
   ]
  },
  {
   "cell_type": "code",
   "execution_count": null,
   "metadata": {},
   "outputs": [],
   "source": [
    "#import numpy as np\n",
    "import scipy as scipy\n",
    "from numpy.linalg import eig\n",
    "from scipy.sparse.linalg import eigs\n",
    "from scipy.linalg import eigh\n",
    "from numpy.linalg import inv"
   ]
  },
  {
   "cell_type": "code",
   "execution_count": null,
   "metadata": {},
   "outputs": [],
   "source": [
    "# functions"
   ]
  },
  {
   "cell_type": "code",
   "execution_count": null,
   "metadata": {},
   "outputs": [],
   "source": [
    "def butter_bandpass_filter(data, lowcut, highcut, fs):\n",
    "    nyq = 0.5 * fs\n",
    "    low = lowcut / nyq\n",
    "    high = highcut / nyq\n",
    "\n",
    "    b, a = butter(12, [low, high], btype='band')\n",
    "    y = lfilter(b, a, data)\n",
    "    return y"
   ]
  },
  {
   "cell_type": "code",
   "execution_count": null,
   "metadata": {},
   "outputs": [],
   "source": [
    "# normalization function\n",
    "scaler= StandardScaler()\n",
    "def data_normaliz(X):\n",
    "    X_prep=scaler.fit_transform(X)\n",
    "    #do here your preprocessing\n",
    "    return X_prep"
   ]
  },
  {
   "cell_type": "code",
   "execution_count": null,
   "metadata": {},
   "outputs": [],
   "source": [
    "# Function for commone spatial pattern\n",
    "# Input for function should be in form of array\n",
    "def CSP(X1,X2):\n",
    "\n",
    "\tS1=np.cov(X1)\n",
    "\tS2=np.cov(X2)\n",
    "# Solve the eigenvalue problem S1·W = l·S2·W\n",
    "\tL,W=scipy.linalg.eigh(S1, S1+S2) # Mixing matrix W\n",
    "#\tW=W*-1\n",
    "#\tLambda=np.diag(L)   # Eigenvalues\n",
    "#\tA=np.linalg.inv(W)  # Demixing matrix\n",
    "\n",
    "#CSP filtered signal is computed as: X_csp = W'*X;\n",
    "\treturn L,W"
   ]
  },
  {
   "cell_type": "code",
   "execution_count": null,
   "metadata": {},
   "outputs": [],
   "source": [
    "# Reading Data"
   ]
  },
  {
   "cell_type": "code",
   "execution_count": null,
   "metadata": {},
   "outputs": [],
   "source": [
    "GS1 = pd.read_csv('GS1.csv')"
   ]
  },
  {
   "cell_type": "code",
   "execution_count": null,
   "metadata": {},
   "outputs": [],
   "source": [
    "GS2 = pd.read_csv('GS2.csv')"
   ]
  },
  {
   "cell_type": "code",
   "execution_count": null,
   "metadata": {},
   "outputs": [],
   "source": [
    "GS=GS1.append(GS2)"
   ]
  },
  {
   "cell_type": "code",
   "execution_count": null,
   "metadata": {},
   "outputs": [],
   "source": [
    "from pathlib import Path  \n",
    "filepath = Path('E:\\GP/GS.csv')  \n",
    "filepath.parent.mkdir(parents=True, exist_ok=True)  \n",
    "GS.to_csv(filepath)"
   ]
  },
  {
   "cell_type": "code",
   "execution_count": null,
   "metadata": {},
   "outputs": [],
   "source": [
    "GS=GS.drop(['id','Unnamed: 0','FirstDigitTouch' ], axis=1)#remove id"
   ]
  },
  {
   "cell_type": "code",
   "execution_count": null,
   "metadata": {},
   "outputs": [],
   "source": [
    "GS.head()"
   ]
  },
  {
   "cell_type": "code",
   "execution_count": null,
   "metadata": {},
   "outputs": [],
   "source": [
    "GS=np.asarray(GS.astype(float))"
   ]
  },
  {
   "cell_type": "code",
   "execution_count": null,
   "metadata": {},
   "outputs": [],
   "source": [
    "GS"
   ]
  },
  {
   "cell_type": "code",
   "execution_count": 4,
   "metadata": {},
   "outputs": [],
   "source": [
    "RP1 = pd.read_csv('Replace.csv')"
   ]
  },
  {
   "cell_type": "code",
   "execution_count": 5,
   "metadata": {},
   "outputs": [],
   "source": [
    "RP2 = pd.read_csv('Replace2.csv')"
   ]
  },
  {
   "cell_type": "code",
   "execution_count": 6,
   "metadata": {},
   "outputs": [],
   "source": [
    "RP=RP1.append(RP2)"
   ]
  },
  {
   "cell_type": "code",
   "execution_count": 7,
   "metadata": {},
   "outputs": [],
   "source": [
    "from pathlib import Path  \n",
    "filepath = Path('E:\\GP/RP.csv')  \n",
    "filepath.parent.mkdir(parents=True, exist_ok=True)  \n",
    "RP.to_csv(filepath)"
   ]
  },
  {
   "cell_type": "code",
   "execution_count": null,
   "metadata": {},
   "outputs": [],
   "source": [
    "RP=RP1.drop(['id','Unnamed: 0','Replace' ], axis=1) #remove id"
   ]
  },
  {
   "cell_type": "code",
   "execution_count": null,
   "metadata": {},
   "outputs": [],
   "source": [
    "RP.head()"
   ]
  },
  {
   "cell_type": "code",
   "execution_count": null,
   "metadata": {},
   "outputs": [],
   "source": [
    "RP=np.asarray(RP.astype(float))"
   ]
  },
  {
   "cell_type": "code",
   "execution_count": null,
   "metadata": {},
   "outputs": [],
   "source": []
  },
  {
   "cell_type": "code",
   "execution_count": null,
   "metadata": {},
   "outputs": [],
   "source": [
    "RP"
   ]
  },
  {
   "cell_type": "code",
   "execution_count": null,
   "metadata": {},
   "outputs": [],
   "source": [
    "# preprocessing (filter+normalization)"
   ]
  },
  {
   "cell_type": "code",
   "execution_count": null,
   "metadata": {},
   "outputs": [],
   "source": [
    "# GS processing\n",
    "GS_filter=butter_bandpass_filter(GS,7,30,500)"
   ]
  },
  {
   "cell_type": "code",
   "execution_count": null,
   "metadata": {},
   "outputs": [],
   "source": [
    "GS_filter_normaliz=data_normaliz(GS_filter)"
   ]
  },
  {
   "cell_type": "code",
   "execution_count": null,
   "metadata": {},
   "outputs": [],
   "source": [
    "GS_filter_normaliz=GS_filter_normaliz.T# to be ready for csp [c*t]"
   ]
  },
  {
   "cell_type": "code",
   "execution_count": null,
   "metadata": {},
   "outputs": [],
   "source": [
    "GS_filter_normaliz.shape"
   ]
  },
  {
   "cell_type": "code",
   "execution_count": null,
   "metadata": {},
   "outputs": [],
   "source": [
    "# RP processing\n",
    "RP_filter=butter_bandpass_filter(RP,7,30,500)"
   ]
  },
  {
   "cell_type": "code",
   "execution_count": null,
   "metadata": {},
   "outputs": [],
   "source": [
    "RP_filter_normaliz=data_normaliz(RP_filter)"
   ]
  },
  {
   "cell_type": "code",
   "execution_count": null,
   "metadata": {},
   "outputs": [],
   "source": [
    "RP_filter_normaliz=RP_filter_normaliz.T # to be ready for csp [c*t]"
   ]
  },
  {
   "cell_type": "code",
   "execution_count": null,
   "metadata": {},
   "outputs": [],
   "source": [
    "RP_filter_normaliz.shape"
   ]
  },
  {
   "cell_type": "code",
   "execution_count": null,
   "metadata": {},
   "outputs": [],
   "source": [
    "# COMMON SPATIAL FILTER CSP(C3,CZ,C4)\n",
    "# L Eigenvaluses\n",
    "# w Eigenvector\n",
    "# GS_filter_normaliz is positive class\n",
    "# RP_filter_normaliz is negative class\n",
    "L1,W1=CSP(GS_filter_normaliz[0:3,:],RP_filter_normaliz[0:3,:]) # Mixing matrix W"
   ]
  },
  {
   "cell_type": "code",
   "execution_count": null,
   "metadata": {},
   "outputs": [],
   "source": [
    "# Grasp Signal of electrode (C3.CZ,C4) after CSP\n",
    "GS_c_csp=np.dot (W1.T,GS_filter_normaliz[0:3,:])"
   ]
  },
  {
   "cell_type": "code",
   "execution_count": null,
   "metadata": {},
   "outputs": [],
   "source": [
    "GS_c_csp.shape"
   ]
  },
  {
   "cell_type": "code",
   "execution_count": null,
   "metadata": {},
   "outputs": [],
   "source": [
    "# Replace Signal of electrode (C3.CZ,C4) after CSP\n",
    "RP_c_csp=np.dot (W1.T,RP_filter_normaliz[0:3,:])"
   ]
  },
  {
   "cell_type": "code",
   "execution_count": null,
   "metadata": {},
   "outputs": [],
   "source": [
    "RP_c_csp.shape"
   ]
  },
  {
   "cell_type": "code",
   "execution_count": null,
   "metadata": {},
   "outputs": [],
   "source": [
    "# COMMON SPATIAL FILTER CSP(P3,PZ,P4)\n",
    "# L Eigenvaluses\n",
    "# w Eigenvector\n",
    "# GS_filter_normaliz is positive class\n",
    "# RP_filter_normaliz is negative class\n",
    "L2,W2=CSP(GS_filter_normaliz[3:6,:],RP_filter_normaliz[3:6,:]) # Mixing matrix W"
   ]
  },
  {
   "cell_type": "code",
   "execution_count": null,
   "metadata": {},
   "outputs": [],
   "source": [
    "# Grasp Signal of electrode (P3.PZ,P4) after CSP\n",
    "GS_p_csp=np.dot (W2.T,GS_filter_normaliz[3:6,:])"
   ]
  },
  {
   "cell_type": "code",
   "execution_count": null,
   "metadata": {},
   "outputs": [],
   "source": [
    "GS_p_csp.shape"
   ]
  },
  {
   "cell_type": "code",
   "execution_count": null,
   "metadata": {},
   "outputs": [],
   "source": [
    "# Replace Signal of electrode (P3.PZ,P4) after CSP\n",
    "RP_p_csp=np.dot (W2.T,RP_filter_normaliz[3:6,:])"
   ]
  },
  {
   "cell_type": "code",
   "execution_count": null,
   "metadata": {},
   "outputs": [],
   "source": [
    "RP_p_csp.shape"
   ]
  },
  {
   "cell_type": "code",
   "execution_count": null,
   "metadata": {},
   "outputs": [],
   "source": [
    "############### wavelet transformation ################"
   ]
  },
  {
   "cell_type": "code",
   "execution_count": null,
   "metadata": {},
   "outputs": [],
   "source": [
    "!pip install scaleogram"
   ]
  },
  {
   "cell_type": "code",
   "execution_count": null,
   "metadata": {},
   "outputs": [],
   "source": [
    "import scaleogram as scg\n",
    "import pywt\n",
    "import numpy as np\n",
    "import matplotlib.pyplot as plt"
   ]
  },
  {
   "cell_type": "code",
   "execution_count": null,
   "metadata": {},
   "outputs": [],
   "source": [
    "#cwt=scg.CWT(signal,scales='wavelet')\n",
    "#Argument \n",
    "#signal=sig\n",
    "#scles= np.arange(1, 70)# as paper mention for dimension of sclogeame\n",
    "#wavelet='morl'# morlyt as the most common used in EEG signal"
   ]
  },
  {
   "cell_type": "code",
   "execution_count": null,
   "metadata": {},
   "outputs": [],
   "source": [
    "scles= np.arange(1, 70)# as paper mention for dimension of sclogeame\n",
    "# wavelet='morl'# morlyt as the most common used in EEG signal"
   ]
  },
  {
   "cell_type": "code",
   "execution_count": null,
   "metadata": {},
   "outputs": [],
   "source": [
    "##### creat scalograme for (C3,CZ,C4) GS v.s RP ####"
   ]
  },
  {
   "cell_type": "code",
   "execution_count": null,
   "metadata": {},
   "outputs": [],
   "source": [
    "##### Scalogram for Grasp event (C3,CZ,C4) #####"
   ]
  },
  {
   "cell_type": "code",
   "execution_count": null,
   "metadata": {},
   "outputs": [],
   "source": [
    "# scalogram for event Grasp electrode C3\n",
    "coef_GS_c3, freqs = pywt.cwt(GS_c_csp[0,:], scles,'morl')"
   ]
  },
  {
   "cell_type": "code",
   "execution_count": null,
   "metadata": {},
   "outputs": [],
   "source": [
    "coef_GS_c3.shape"
   ]
  },
  {
   "cell_type": "code",
   "execution_count": null,
   "metadata": {},
   "outputs": [],
   "source": [
    "# Take 400 sampels\n",
    "scalogram_GS_c3_1=coef_GS_c3[:,0:400]"
   ]
  },
  {
   "cell_type": "code",
   "execution_count": null,
   "metadata": {},
   "outputs": [],
   "source": [
    "scalogram_GS_c3_1.shape"
   ]
  },
  {
   "cell_type": "code",
   "execution_count": null,
   "metadata": {},
   "outputs": [],
   "source": [
    "# first gray scalogram image C3 ,Grasp 69*400\n",
    "\n",
    "plt.matshow(scalogram_GS_c3_1,cmap='gray')\n",
    "plt.colorbar();"
   ]
  },
  {
   "cell_type": "code",
   "execution_count": null,
   "metadata": {},
   "outputs": [],
   "source": [
    "# scalogram for event Grasp electrode Cz\n",
    "coef_GS_cz, freqs = pywt.cwt(GS_c_csp[1,:], scles,'morl')"
   ]
  },
  {
   "cell_type": "code",
   "execution_count": null,
   "metadata": {},
   "outputs": [],
   "source": [
    "coef_GS_cz.shape"
   ]
  },
  {
   "cell_type": "code",
   "execution_count": null,
   "metadata": {},
   "outputs": [],
   "source": [
    "# Take 400 sampels\n",
    "scalogram_GS_cz_1=coef_GS_cz[:,0:400]"
   ]
  },
  {
   "cell_type": "code",
   "execution_count": null,
   "metadata": {},
   "outputs": [],
   "source": [
    "scalogram_GS_cz_1.shape"
   ]
  },
  {
   "cell_type": "code",
   "execution_count": null,
   "metadata": {},
   "outputs": [],
   "source": [
    "# first gray scalogram image Cz ,Grasp 69*400\n",
    "\n",
    "plt.matshow(scalogram_GS_cz_1,cmap='gray')\n",
    "plt.colorbar();"
   ]
  },
  {
   "cell_type": "code",
   "execution_count": null,
   "metadata": {},
   "outputs": [],
   "source": [
    "# scalogram for event Grasp electrode C4\n",
    "coef_GS_c4, freqs = pywt.cwt(GS_c_csp[2,:], scles,'morl')"
   ]
  },
  {
   "cell_type": "code",
   "execution_count": null,
   "metadata": {},
   "outputs": [],
   "source": [
    "coef_GS_c4.shape"
   ]
  },
  {
   "cell_type": "code",
   "execution_count": null,
   "metadata": {},
   "outputs": [],
   "source": [
    "# Take 400 sampels\n",
    "scalogram_GS_c4_1=coef_GS_c4[:,0:400]"
   ]
  },
  {
   "cell_type": "code",
   "execution_count": null,
   "metadata": {},
   "outputs": [],
   "source": [
    "scalogram_GS_c4_1.shape"
   ]
  },
  {
   "cell_type": "code",
   "execution_count": null,
   "metadata": {},
   "outputs": [],
   "source": [
    "# first gray scalogram image C4 ,Grasp 69*400\n",
    "\n",
    "plt.matshow(scalogram_GS_c4_1,cmap='gray')\n",
    "plt.colorbar();"
   ]
  },
  {
   "cell_type": "code",
   "execution_count": null,
   "metadata": {},
   "outputs": [],
   "source": [
    "# make resize for sclogram Graspe event  (C3,Cz,C4)"
   ]
  },
  {
   "cell_type": "code",
   "execution_count": null,
   "metadata": {
    "scrolled": false
   },
   "outputs": [],
   "source": [
    "!pip install scipy"
   ]
  },
  {
   "cell_type": "code",
   "execution_count": null,
   "metadata": {},
   "outputs": [],
   "source": [
    "import scipy.misc"
   ]
  },
  {
   "cell_type": "code",
   "execution_count": null,
   "metadata": {
    "scrolled": true
   },
   "outputs": [],
   "source": [
    "!pip install Pillow\n"
   ]
  },
  {
   "cell_type": "code",
   "execution_count": null,
   "metadata": {},
   "outputs": [],
   "source": [
    "from PIL import Image\n"
   ]
  },
  {
   "cell_type": "code",
   "execution_count": null,
   "metadata": {},
   "outputs": [],
   "source": [
    "pip install scipy==1.1.0"
   ]
  },
  {
   "cell_type": "code",
   "execution_count": null,
   "metadata": {},
   "outputs": [],
   "source": [
    "import imageio"
   ]
  },
  {
   "cell_type": "code",
   "execution_count": null,
   "metadata": {
    "scrolled": true
   },
   "outputs": [],
   "source": [
    "pip install opencv-python\n"
   ]
  },
  {
   "cell_type": "code",
   "execution_count": null,
   "metadata": {},
   "outputs": [],
   "source": [
    "from PIL import Image\n",
    "\n",
    "#Create an Image Object from an Image\n",
    "im = Image.open(scalogram_GS_c3_1)\n",
    "\n",
    "#Display actual image\n",
    "im.show()\n",
    "\n",
    "#Make the new image half the width and half the height of the original image\n",
    "resized_im = im.resize(224,224)\n",
    "\n",
    "#Display the resized imaged\n",
    "resized_im.show()\n",
    "\n",
    "#Save the cropped image\n",
    "resized_im.save('resizedBeach1.jpg')"
   ]
  },
  {
   "cell_type": "code",
   "execution_count": null,
   "metadata": {},
   "outputs": [],
   "source": [
    "\n",
    "#C3#\n",
    "scalogram_GS_c3_1=Image.resize(scalogram_GS_c3_1,(224,224))#  resize by numpy \n",
    "#scalogram_GS_c3_1= imresize(scalogram_GS_c3_1, (224, 224),interp = 'cubic')"
   ]
  },
  {
   "cell_type": "code",
   "execution_count": null,
   "metadata": {},
   "outputs": [],
   "source": []
  },
  {
   "cell_type": "code",
   "execution_count": null,
   "metadata": {},
   "outputs": [],
   "source": [
    "scalogram_GS_c3_1.shape"
   ]
  },
  {
   "cell_type": "code",
   "execution_count": null,
   "metadata": {},
   "outputs": [],
   "source": [
    "# first gray scalogram image C3 ,Grasp after resize (224*224)\n",
    "\n",
    "plt.matshow(scalogram_GS_c3_1)\n",
    "plt.colorbar();"
   ]
  },
  {
   "cell_type": "code",
   "execution_count": null,
   "metadata": {},
   "outputs": [],
   "source": [
    "#Cz#\n",
    "scalogram_GS_cz_1= np.resize(scalogram_GS_cz_1, (224, 224))"
   ]
  },
  {
   "cell_type": "code",
   "execution_count": null,
   "metadata": {},
   "outputs": [],
   "source": [
    "scalogram_GS_cz_1.shape"
   ]
  },
  {
   "cell_type": "code",
   "execution_count": null,
   "metadata": {},
   "outputs": [],
   "source": [
    "# first gray scalogram image Cz ,Grasp after resize (224*224)\n",
    "\n",
    "plt.matshow(scalogram_GS_cz_1)\n",
    "plt.colorbar();"
   ]
  },
  {
   "cell_type": "code",
   "execution_count": null,
   "metadata": {},
   "outputs": [],
   "source": [
    "#C4#\n",
    "scalogram_GS_c4_1= np.resize(scalogram_GS_c4_1, (224, 224))"
   ]
  },
  {
   "cell_type": "code",
   "execution_count": null,
   "metadata": {},
   "outputs": [],
   "source": [
    "scalogram_GS_c4_1.shape"
   ]
  },
  {
   "cell_type": "code",
   "execution_count": null,
   "metadata": {},
   "outputs": [],
   "source": [
    "# first gray scalogram image C4 ,Grasp after resize (224*224)\n",
    "\n",
    "plt.matshow(scalogram_GS_c4_1)\n",
    "plt.colorbar();"
   ]
  },
  {
   "cell_type": "code",
   "execution_count": null,
   "metadata": {},
   "outputs": [],
   "source": [
    "# # creating rgb image from these three channel\n",
    "r=scalogram_GS_c3_1\n",
    "g=scalogram_GS_cz_1\n",
    "b=scalogram_GS_c4_1\n",
    "RGB_GS_C_1 = np.dstack((r,g,b))\n"
   ]
  },
  {
   "cell_type": "code",
   "execution_count": null,
   "metadata": {},
   "outputs": [],
   "source": [
    "RGB_GS_C_1.shape"
   ]
  },
  {
   "cell_type": "code",
   "execution_count": null,
   "metadata": {},
   "outputs": [],
   "source": [
    "RGB_GS_C_1"
   ]
  },
  {
   "cell_type": "code",
   "execution_count": null,
   "metadata": {},
   "outputs": [],
   "source": [
    "plt.imshow(RGB_GS_C_1)\n",
    "plt.colorbar();"
   ]
  },
  {
   "cell_type": "code",
   "execution_count": null,
   "metadata": {},
   "outputs": [],
   "source": [
    "# save images as jpg\n",
    "imsave('RGB_GS_C_1.jpg', RGB_GS_C_1)"
   ]
  },
  {
   "cell_type": "code",
   "execution_count": null,
   "metadata": {},
   "outputs": [],
   "source": [
    "##### Scalogram for Grasp event (P3,PZ,P4) #####"
   ]
  },
  {
   "cell_type": "code",
   "execution_count": null,
   "metadata": {},
   "outputs": [],
   "source": [
    "# scalogram for event Grasp electrode P3\n",
    "coef_GS_p3, freqs = pywt.cwt(GS_p_csp[0,:], scles,'morl')"
   ]
  },
  {
   "cell_type": "code",
   "execution_count": null,
   "metadata": {},
   "outputs": [],
   "source": [
    "coef_GS_p3.shape"
   ]
  },
  {
   "cell_type": "code",
   "execution_count": null,
   "metadata": {},
   "outputs": [],
   "source": [
    "# Take 400 sampels\n",
    "scalogram_GS_p3_1=coef_GS_p3[:,0:400]"
   ]
  },
  {
   "cell_type": "code",
   "execution_count": null,
   "metadata": {},
   "outputs": [],
   "source": [
    "scalogram_GS_p3_1.shape"
   ]
  },
  {
   "cell_type": "code",
   "execution_count": null,
   "metadata": {},
   "outputs": [],
   "source": [
    "# first gray scalogram image p3 ,Grasp 69*400\n",
    "\n",
    "plt.matshow(scalogram_GS_p3_1,cmap='gray')\n",
    "plt.colorbar();"
   ]
  },
  {
   "cell_type": "code",
   "execution_count": null,
   "metadata": {},
   "outputs": [],
   "source": [
    "# scalogram for event Grasp electrode Pz\n",
    "coef_GS_pz, freqs = pywt.cwt(GS_p_csp[1,:], scles,'morl')"
   ]
  },
  {
   "cell_type": "code",
   "execution_count": null,
   "metadata": {},
   "outputs": [],
   "source": [
    "coef_GS_pz.shape"
   ]
  },
  {
   "cell_type": "code",
   "execution_count": null,
   "metadata": {},
   "outputs": [],
   "source": [
    "# Take 400 sampels\n",
    "scalogram_GS_pz_1=coef_GS_pz[:,0:400]"
   ]
  },
  {
   "cell_type": "code",
   "execution_count": null,
   "metadata": {},
   "outputs": [],
   "source": [
    "scalogram_GS_pz_1.shape"
   ]
  },
  {
   "cell_type": "code",
   "execution_count": null,
   "metadata": {},
   "outputs": [],
   "source": [
    "# first gray scalogram image pz ,Grasp 69*400\n",
    "\n",
    "plt.matshow(scalogram_GS_pz_1,cmap='gray')\n",
    "plt.colorbar();"
   ]
  },
  {
   "cell_type": "code",
   "execution_count": null,
   "metadata": {},
   "outputs": [],
   "source": [
    "# scalogram for event Grasp electrode P4\n",
    "coef_GS_p4, freqs = pywt.cwt(GS_p_csp[2,:], scles,'morl')"
   ]
  },
  {
   "cell_type": "code",
   "execution_count": null,
   "metadata": {},
   "outputs": [],
   "source": [
    "coef_GS_p4.shape"
   ]
  },
  {
   "cell_type": "code",
   "execution_count": null,
   "metadata": {},
   "outputs": [],
   "source": [
    "# Take 400 sampels\n",
    "scalogram_GS_p4_1=coef_GS_p4[:,0:400]"
   ]
  },
  {
   "cell_type": "code",
   "execution_count": null,
   "metadata": {},
   "outputs": [],
   "source": [
    "# first gray scalogram image p4 ,Grasp 69*400\n",
    "\n",
    "plt.matshow(scalogram_GS_p4_1,cmap='gray')\n",
    "plt.colorbar();"
   ]
  },
  {
   "cell_type": "code",
   "execution_count": null,
   "metadata": {},
   "outputs": [],
   "source": [
    "#P3#\n",
    "# scalogram_GS_c3_1=np.resize(scalogram_GS_p3_1,(224,224))#  resize by numpy \n",
    "scalogram_GS_p3_1= imresize(scalogram_GS_p3_1, (224, 224),interp = 'cubic')"
   ]
  },
  {
   "cell_type": "code",
   "execution_count": null,
   "metadata": {},
   "outputs": [],
   "source": [
    "scalogram_GS_p3_1.shape"
   ]
  },
  {
   "cell_type": "code",
   "execution_count": null,
   "metadata": {},
   "outputs": [],
   "source": [
    "# first gray scalogram image P3 ,Grasp after resize (224*224)\n",
    "\n",
    "plt.matshow(scalogram_GS_p3_1)\n",
    "plt.colorbar();"
   ]
  },
  {
   "cell_type": "code",
   "execution_count": null,
   "metadata": {},
   "outputs": [],
   "source": [
    "#Pz#\n",
    "# scalogram_GS_c3_1=np.resize(scalogram_GS_p3_1,(224,224))#  resize by numpy \n",
    "scalogram_GS_pz_1= imresize(scalogram_GS_pz_1, (224, 224),interp = 'cubic')"
   ]
  },
  {
   "cell_type": "code",
   "execution_count": null,
   "metadata": {},
   "outputs": [],
   "source": [
    "scalogram_GS_pz_1.shape"
   ]
  },
  {
   "cell_type": "code",
   "execution_count": null,
   "metadata": {},
   "outputs": [],
   "source": [
    "# first gray scalogram image Pz ,Grasp after resize (224*224)\n",
    "\n",
    "plt.matshow(scalogram_GS_pz_1)\n",
    "plt.colorbar();"
   ]
  },
  {
   "cell_type": "code",
   "execution_count": null,
   "metadata": {},
   "outputs": [],
   "source": [
    "#P4#\n",
    "# scalogram_GS_c3_1=np.resize(scalogram_GS_p3_1,(224,224))#  resize by numpy \n",
    "scalogram_GS_p4_1= imresize(scalogram_GS_p4_1, (224, 224),interp = 'cubic')"
   ]
  },
  {
   "cell_type": "code",
   "execution_count": null,
   "metadata": {},
   "outputs": [],
   "source": [
    "scalogram_GS_p4_1.shape"
   ]
  },
  {
   "cell_type": "code",
   "execution_count": null,
   "metadata": {},
   "outputs": [],
   "source": [
    "# first gray scalogram image P4 ,Grasp after resize (224*224)\n",
    "\n",
    "plt.matshow(scalogram_GS_p4_1)\n",
    "plt.colorbar();"
   ]
  },
  {
   "cell_type": "code",
   "execution_count": null,
   "metadata": {},
   "outputs": [],
   "source": [
    "# # creating rgb image from these three channel\n",
    "r1=scalogram_GS_p3_1\n",
    "g1=scalogram_GS_pz_1\n",
    "b1=scalogram_GS_p4_1\n",
    "RGB_GS_P_1 = np.dstack((r1,g1,b1))"
   ]
  },
  {
   "cell_type": "code",
   "execution_count": null,
   "metadata": {},
   "outputs": [],
   "source": [
    "RGB_GS_P_1.shape"
   ]
  },
  {
   "cell_type": "code",
   "execution_count": null,
   "metadata": {},
   "outputs": [],
   "source": [
    "RGB_GS_P_1"
   ]
  },
  {
   "cell_type": "code",
   "execution_count": null,
   "metadata": {},
   "outputs": [],
   "source": [
    "plt.imshow(RGB_GS_P_1)\n",
    "plt.colorbar();"
   ]
  },
  {
   "cell_type": "code",
   "execution_count": null,
   "metadata": {},
   "outputs": [],
   "source": [
    "# save images as jpg\n",
    "imsave('RGB_GS_P_1.jpg', RGB_GS_P_1)"
   ]
  },
  {
   "cell_type": "code",
   "execution_count": null,
   "metadata": {},
   "outputs": [],
   "source": []
  }
 ],
 "metadata": {
  "kernelspec": {
   "display_name": "Python 3 (ipykernel)",
   "language": "python",
   "name": "python3"
  },
  "language_info": {
   "codemirror_mode": {
    "name": "ipython",
    "version": 3
   },
   "file_extension": ".py",
   "mimetype": "text/x-python",
   "name": "python",
   "nbconvert_exporter": "python",
   "pygments_lexer": "ipython3",
   "version": "3.9.7"
  }
 },
 "nbformat": 4,
 "nbformat_minor": 2
}
